{
  "nbformat": 4,
  "nbformat_minor": 0,
  "metadata": {
    "colab": {
      "name": "Introduction_to_Programming.ipynb",
      "provenance": [],
      "collapsed_sections": []
    },
    "kernelspec": {
      "name": "python3",
      "display_name": "Python 3"
    }
  },
  "cells": [
    {
      "cell_type": "markdown",
      "metadata": {
        "id": "tCZN5yHc8s6-"
      },
      "source": [
        "# Intro to Programming\n",
        "\n",
        "> We will be working in a programming language called Python. You can do everything from control robots, to develop video games in a language such as Python. To start off we will cover the  syntax of the language. With all programing languages there is code and comments. Code allows us to achieve whatever it is we are trying achieve through programming, Comments allows the programmer to document what it is exactly they are doing:\n",
        "\n",
        "Comments are characterized by having the # symbol as the first character on the line: \n",
        "\n",
        "```\n",
        "# this is a comment\n",
        "# comments allow us to describe what it is we are doing in our code\n",
        "# for example, below I am outputting the number 6\n",
        "print(6) \n",
        "\"\"\"\n",
        "Three quotations can also be used for comments\n",
        "\"\"\"\n",
        "```\n",
        "Any code that does not begin with # or is not encapsulated by \"\"\" \"\"\", is actual code:\n",
        "```\n",
        "# two lines below is actual code:\n",
        "for i in range(10):\n",
        "  print(i)\n",
        "```\n"
      ]
    },
    {
      "cell_type": "markdown",
      "metadata": {
        "id": "y7kjPck6_Kmv"
      },
      "source": [
        "# The BASICS\n",
        " > As much as we all want to be able to develop Triple-A video games right away, we need to start with the fundementals! Once you gain a strong understanding of how to program you can very seriously begin to consider doing fun stuff such as game development. So lets start with the basics:"
      ]
    },
    {
      "cell_type": "code",
      "metadata": {
        "id": "VpIu3rOaBYMI",
        "outputId": "0a7094db-cb77-4987-90e6-9142097bdf61",
        "colab": {
          "base_uri": "https://localhost:8080/",
          "height": 50
        }
      },
      "source": [
        "\"\"\"\n",
        "We will first start off with the universal introduction to programming activity!\n",
        "Below you will see something called \"print statements\" this allows us to output\n",
        "information from the computer:\n",
        "\"\"\"\n",
        "# below is a print statement, as you can see the messages are written with quotations\n",
        "# around them, we will learn about this later!\n",
        "print(\"Hi I am a computer\")\n",
        "print(\"This is a message\")\n",
        "\n",
        "# TODO: Make the computer print \"Hello, World!\"\n"
      ],
      "execution_count": null,
      "outputs": [
        {
          "output_type": "stream",
          "text": [
            "Hi I am a computer\n",
            "This is a message\n"
          ],
          "name": "stdout"
        }
      ]
    },
    {
      "cell_type": "markdown",
      "metadata": {
        "id": "pLcqnoSCilY4"
      },
      "source": [
        "# Types\n",
        "<h4> Strings </h4>\n",
        "There are different types of data which you can use when programming. To keep it simple lets consider the most important ones. \n",
        "\n",
        "First there are strings, you can think of strings as writing or words, a string is denoted by being written in quotation marks.\n",
        "  For example:\n",
        "\n",
        "\n",
        "```\n",
        "'This is a string, it is encapsulated by quotation marks'\n",
        "```\n",
        "<h4>Integers</h4>\n",
        "Integers are numeric values which do not have a decimal point, you can think of these as whole numbers. An example of an int:\n",
        "\n",
        "```\n",
        "1234\n",
        "11\n",
        "56\n",
        "8\n",
        "```\n",
        "<h4>Floats</h4>\n",
        "Floats are numeric values that do have decimal points, you can think of these as real numbers. An example of an float:\n",
        "\n",
        "```\n",
        "1234.123\n",
        "11.1\n",
        "56.0\n",
        "8.866666666\n",
        "```\n",
        "<h4>Booleans</h4>\n",
        "Booleans are logical values, they only have two possible values, True or False. You can also think of a bool being off (0) or on (1). An example of an Boolean:\n",
        "\n",
        "```\n",
        "True\n",
        "False\n",
        "```"
      ]
    },
    {
      "cell_type": "markdown",
      "metadata": {
        "id": "usJ03f3ll00o"
      },
      "source": [
        "# Variables\n",
        "We can store the types of data above in something called a variable. For example:\n",
        "\n"
      ]
    },
    {
      "cell_type": "code",
      "metadata": {
        "id": "rsdrwNxa8pnz",
        "outputId": "c7296fcf-0fb9-4050-be89-c980168a067e",
        "colab": {
          "base_uri": "https://localhost:8080/",
          "height": 50
        }
      },
      "source": [
        "# variables\n",
        "# we can store any type in a variable, for example:\n",
        "a = 'Hello!' # string\n",
        "b = 1 # int\n",
        "c = 2.56 # float\n",
        "d = True # bool\n",
        "\n",
        "# computers are really just fancy calculators!\n",
        "# here we assign the value of 1 to x, 2 to y and then \n",
        "# add them together and store them in z\n",
        "x = 1\n",
        "y = 2 \n",
        "z = x + y\n",
        "# print out output\n",
        "print(\"value of x + y = {}\".format(z))\n",
        "\n",
        "# TODO: make the value of z equal 5\n",
        "z = 5\n",
        "# print out z\n",
        "print(z)"
      ],
      "execution_count": null,
      "outputs": [
        {
          "output_type": "stream",
          "text": [
            "value of x + y = 3\n",
            "5\n"
          ],
          "name": "stdout"
        }
      ]
    },
    {
      "cell_type": "code",
      "metadata": {
        "id": "vDlXxf5n8KtO"
      },
      "source": [
        "#@title Test Code { display-mode: \"form\" }\n",
        "try:\n",
        "  if z == 5:\n",
        "    print(\"correct! Great Job\")\n",
        "  else:\n",
        "    print(\"incorrect, z is the value: {}, please make z = 5\".format(z))\n",
        "except:\n",
        "  print(\"You must run the above code block first!\")"
      ],
      "execution_count": null,
      "outputs": []
    },
    {
      "cell_type": "markdown",
      "metadata": {
        "id": "mFEwtGuc__7o"
      },
      "source": [
        "## I/O\n",
        "> Everything we do with computers requires a means of communication with it. For example when you send off a text to someone, you need to type out the text and then send it off. When programming we will need to know how to get input, as well as display outputs:\n"
      ]
    },
    {
      "cell_type": "code",
      "metadata": {
        "id": "TS9pO13v9Ydr",
        "outputId": "a6447990-43ea-4485-a3d9-2ede5f2ebcbe",
        "colab": {
          "base_uri": "https://localhost:8080/",
          "height": 66
        }
      },
      "source": [
        "# get input\n",
        "x = input(\"Please type a message here: \")\n",
        "# print out message\n",
        "print(\"The message you typed is: \")\n",
        "print(x)"
      ],
      "execution_count": null,
      "outputs": [
        {
          "output_type": "stream",
          "text": [
            "Please type a message here: test\n",
            "The message you typed is: \n",
            "test\n"
          ],
          "name": "stdout"
        }
      ]
    },
    {
      "cell_type": "markdown",
      "metadata": {
        "id": "qv7Qeo00m9nb"
      },
      "source": [
        "# Lists\n",
        "A list is container to hold different items. So you can use a list to store any types of data such as strings, integers, floats or booleans. Below is a few examples of lists:\n",
        "\n",
        "\n",
        "```\n",
        "# you can make a list by encapsulating the items in square brackets [] and \n",
        "# seperating each item with a comma ,\n",
        "\n",
        "# list of strings\n",
        "['a', 'b', 'c']\n",
        "\n",
        "# list of integers\n",
        "[1, 2, 3]\n",
        "\n",
        "# list of floats\n",
        "[1.221, 2.34, 3.5678]\n",
        "\n",
        "# list of bools\n",
        "[True, False, False, True]\n",
        "```\n",
        "\n",
        "Consider this: you are going to the store to get some groceries, you will make a list of items to buy:\n",
        "\n",
        "*   Eggs\n",
        "*   Bananas\n",
        "*   Apples\n",
        "*   Bread"
      ]
    },
    {
      "cell_type": "code",
      "metadata": {
        "id": "WyoF5aqXniMc",
        "outputId": "3ce56ccd-6e43-418f-a368-d477f998a763",
        "colab": {
          "base_uri": "https://localhost:8080/",
          "height": 33
        }
      },
      "source": [
        "# lets make this list in python!\n",
        "\n",
        "grocery_list = ['Eggs', 'Bananas', 'Apples', 'Bread']\n",
        "# print out list\n",
        "print(grocery_list)"
      ],
      "execution_count": null,
      "outputs": [
        {
          "output_type": "stream",
          "text": [
            "['Eggs', 'Bananas', 'Apples', 'Bread']\n"
          ],
          "name": "stdout"
        }
      ]
    },
    {
      "cell_type": "markdown",
      "metadata": {
        "id": "4pNd9Ub65wIv"
      },
      "source": [
        "Now, try it for yourself. Make a list that contains:\n",
        "Eggs,\n",
        "Bananas,\n",
        "Apples,\n",
        "Bread, and one other grocery item, i.e. butter."
      ]
    },
    {
      "cell_type": "code",
      "metadata": {
        "id": "a1GEEmPY5-em",
        "outputId": "db69c42f-94aa-4ce6-f33c-553cc871acc1",
        "colab": {
          "base_uri": "https://localhost:8080/",
          "height": 33
        }
      },
      "source": [
        "# TODO: make a list containing above items\n",
        "grocery_list = []\n",
        "# print out list\n",
        "print(grocery_list)"
      ],
      "execution_count": null,
      "outputs": [
        {
          "output_type": "stream",
          "text": [
            "[]\n"
          ],
          "name": "stdout"
        }
      ]
    },
    {
      "cell_type": "code",
      "metadata": {
        "id": "j85BquMl6cu4"
      },
      "source": [
        "#@title Test Grocery List { display-mode: \"form\" }\n",
        "try:\n",
        "  if len(grocery_list) > 4:\n",
        "    print(\"correct! Great Job\")\n",
        "  else:\n",
        "    print(\"incorrect, try again.\")\n",
        "except:\n",
        "  print(\"You must run the above code block first!\")"
      ],
      "execution_count": null,
      "outputs": []
    },
    {
      "cell_type": "markdown",
      "metadata": {
        "id": "eLXRhY198rYJ"
      },
      "source": [
        "# Loops\n",
        "What is a loop? A loop is a way to count over a collection of things. For example, with our grocery list, we an loop over all the items to see them individually. There are two types of loops:\n",
        "\n",
        "\n",
        "1.   For loops - go through an entire list\n",
        "2.   While loops - keep doing something until I say stop!\n",
        "\n",
        "Lets start with for loops:\n",
        "\n",
        "\n",
        "\n"
      ]
    },
    {
      "cell_type": "code",
      "metadata": {
        "id": "QPE9zs8xo4Gk"
      },
      "source": [
        "# iterate over entire grocery list:\n",
        "for grocery_item in grocery_list:\n",
        "  print(grocery_item) b"
      ],
      "execution_count": null,
      "outputs": []
    },
    {
      "cell_type": "markdown",
      "metadata": {
        "id": "lsZmtYxnT5Ev"
      },
      "source": [
        "Next we will look at while loops:\n",
        "- A while loop simply repeats an action until some sort of action is complete."
      ]
    },
    {
      "cell_type": "code",
      "metadata": {
        "id": "J-1ShUXJUDuM",
        "outputId": "ff77700a-35c0-4bf2-d238-6910746fa982",
        "colab": {
          "base_uri": "https://localhost:8080/",
          "height": 180
        }
      },
      "source": [
        "number = 10\n",
        "# while number does not equal zero\n",
        "while number != 0:\n",
        "  # print out the number\n",
        "  print(number)\n",
        "  # subtract 1 from number\n",
        "  number = number-1"
      ],
      "execution_count": null,
      "outputs": [
        {
          "output_type": "stream",
          "text": [
            "10\n",
            "9\n",
            "8\n",
            "7\n",
            "6\n",
            "5\n",
            "4\n",
            "3\n",
            "2\n",
            "1\n"
          ],
          "name": "stdout"
        }
      ]
    }
  ]
}